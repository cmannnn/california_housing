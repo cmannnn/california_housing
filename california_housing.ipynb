{
  "nbformat": 4,
  "nbformat_minor": 0,
  "metadata": {
    "colab": {
      "name": "california_housing.ipynb",
      "provenance": [],
      "authorship_tag": "ABX9TyOiQbxALM5TH0DV4Jp8rXI4",
      "include_colab_link": true
    },
    "kernelspec": {
      "name": "python3",
      "display_name": "Python 3"
    }
  },
  "cells": [
    {
      "cell_type": "markdown",
      "metadata": {
        "id": "view-in-github",
        "colab_type": "text"
      },
      "source": [
        "<a href=\"https://colab.research.google.com/github/cmannnn/california_housing/blob/main/california_housing.ipynb\" target=\"_parent\"><img src=\"https://colab.research.google.com/assets/colab-badge.svg\" alt=\"Open In Colab\"/></a>"
      ]
    },
    {
      "cell_type": "markdown",
      "metadata": {
        "id": "S8t6PmsjDcWP"
      },
      "source": [
        "# Machine Learning Housing Corp. - California Housing"
      ]
    },
    {
      "cell_type": "markdown",
      "metadata": {
        "id": "zN8rNdB_DXm-"
      },
      "source": [
        "The first task you are asked to perform is to build a model of housing prices in California using the California cen‐ sus data. This data has metrics such as the population, median income, median hous‐ ing price, and so on for each block group in California. Block groups are the smallest geographical unit for which the US Census Bureau publishes sample data (a block group typically has a population of 600 to 3,000 people). We will just call them “dis‐ tricts” for short.\n",
        "\n",
        "**Your task is to predict median house values in Californian districts, given a number of features from these districts.**"
      ]
    },
    {
      "cell_type": "markdown",
      "metadata": {
        "id": "nq2A2niEm-jW"
      },
      "source": [
        "#Imports"
      ]
    },
    {
      "cell_type": "code",
      "metadata": {
        "colab": {
          "base_uri": "https://localhost:8080/"
        },
        "id": "3qkl4IGjmg3q",
        "outputId": "f6568186-2a1c-48c7-b02c-6cc23cdfc427"
      },
      "source": [
        "# imports\n",
        "import sys\n",
        "print(f'Using sys version: {sys.version_info}')\n",
        "\n",
        "import urllib.request\n",
        "\n",
        "import os\n",
        "\n",
        "import matplotlib.pyplot as plt\n",
        "import matplotlib\n",
        "plt.style.use('fivethirtyeight')\n",
        "%matplotlib inline\n",
        "print(f'Using matplotlib version: {matplotlib.__version__}')\n",
        "\n",
        "import numpy as np\n",
        "print(f'Using numpy version: {np.__version__}')\n",
        "\n",
        "import pandas as pd\n",
        "pd.set_option('display.max_columns', 500)\n",
        "pd.set_option('display.max_rows', 500)\n",
        "print(f'Using pandas version: {pd.__version__}')\n",
        "\n",
        "import seaborn as sns\n",
        "print(f'Using seaborn version: {sns.__version__}')\n",
        "\n",
        "import warnings\n",
        "warnings.simplefilter('ignore')"
      ],
      "execution_count": 32,
      "outputs": [
        {
          "output_type": "stream",
          "text": [
            "Using sys version: sys.version_info(major=3, minor=6, micro=9, releaselevel='final', serial=0)\n",
            "Using matplotlib version: 3.2.2\n",
            "Using numpy version: 1.19.4\n",
            "Using pandas version: 1.1.5\n",
            "Using seaborn version: 0.11.0\n"
          ],
          "name": "stdout"
        }
      ]
    },
    {
      "cell_type": "code",
      "metadata": {
        "colab": {
          "base_uri": "https://localhost:8080/"
        },
        "id": "j08K4KcXndX8",
        "outputId": "9a55e53a-f5cc-4859-95a5-8a29b34ae752"
      },
      "source": [
        "# mounting google drive\n",
        "from google.colab import drive\n",
        "drive.mount('/content/gdrive')"
      ],
      "execution_count": 33,
      "outputs": [
        {
          "output_type": "stream",
          "text": [
            "Mounted at /content/gdrive\n"
          ],
          "name": "stdout"
        }
      ]
    },
    {
      "cell_type": "code",
      "metadata": {
        "id": "t7GhxWObvvmp"
      },
      "source": [
        "# changing drive location\n",
        "os.chdir('/content/gdrive/MyDrive/Colabby Krabby Paddy')"
      ],
      "execution_count": 36,
      "outputs": []
    },
    {
      "cell_type": "code",
      "metadata": {
        "id": "qtoIDKpTwVPv"
      },
      "source": [
        "# use URLLIB to download from link \n",
        "https://github.com/ageron/handson-ml2/blob/master/datasets/housing/housing.csv"
      ],
      "execution_count": null,
      "outputs": []
    },
    {
      "cell_type": "code",
      "metadata": {
        "id": "G67e39UIwWPP"
      },
      "source": [
        ""
      ],
      "execution_count": null,
      "outputs": []
    }
  ]
}