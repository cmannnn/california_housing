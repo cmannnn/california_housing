{
  "nbformat": 4,
  "nbformat_minor": 0,
  "metadata": {
    "colab": {
      "name": "california_housing.ipynb",
      "provenance": [],
      "collapsed_sections": [],
      "authorship_tag": "ABX9TyNt8GqeHc8RaTl/9mrIVUKi",
      "include_colab_link": true
    },
    "kernelspec": {
      "name": "python3",
      "display_name": "Python 3"
    }
  },
  "cells": [
    {
      "cell_type": "markdown",
      "metadata": {
        "id": "view-in-github",
        "colab_type": "text"
      },
      "source": [
        "<a href=\"https://colab.research.google.com/github/cmannnn/california_housing/blob/main/california_housing.ipynb\" target=\"_parent\"><img src=\"https://colab.research.google.com/assets/colab-badge.svg\" alt=\"Open In Colab\"/></a>"
      ]
    },
    {
      "cell_type": "markdown",
      "metadata": {
        "id": "S8t6PmsjDcWP"
      },
      "source": [
        "# Machine Learning Housing Corp. - California Housing"
      ]
    },
    {
      "cell_type": "markdown",
      "metadata": {
        "id": "zN8rNdB_DXm-"
      },
      "source": [
        "The first task you are asked to perform is to build a model of housing prices in California using the California census data. This data has metrics such as the population, median income, median housing price, and so on for each block group in California. Block groups are the smallest geographical unit for which the US Census Bureau publishes sample data (a block group typically has a population of 600 to 3,000 people). We will just call them “districts” for short.\n",
        "\n",
        "**Your task is to predict median house values in Californian districts, given a number of features from these districts.**"
      ]
    },
    {
      "cell_type": "markdown",
      "metadata": {
        "id": "nq2A2niEm-jW"
      },
      "source": [
        "#Imports"
      ]
    },
    {
      "cell_type": "code",
      "metadata": {
        "colab": {
          "base_uri": "https://localhost:8080/"
        },
        "id": "3qkl4IGjmg3q",
        "outputId": "ea1673fa-3dba-4167-9892-92a756876809"
      },
      "source": [
        "# imports\n",
        "import sys\n",
        "print(f'Using sys version: {sys.version_info}')\n",
        "\n",
        "import requests\n",
        "\n",
        "import csv\n",
        "\n",
        "import os\n",
        "\n",
        "import tarfile\n",
        "\n",
        "import urllib\n",
        "\n",
        "import matplotlib.pyplot as plt\n",
        "import matplotlib\n",
        "plt.style.use('fivethirtyeight')\n",
        "%matplotlib inline\n",
        "print(f'Using matplotlib version: {matplotlib.__version__}')\n",
        "\n",
        "import numpy as np\n",
        "print(f'Using numpy version: {np.__version__}')\n",
        "\n",
        "import pandas as pd\n",
        "pd.set_option('display.max_columns', 500)\n",
        "pd.set_option('display.max_rows', 500)\n",
        "print(f'Using pandas version: {pd.__version__}')\n",
        "\n",
        "import seaborn as sns\n",
        "print(f'Using seaborn version: {sns.__version__}')\n",
        "\n",
        "import warnings\n",
        "warnings.simplefilter('ignore')"
      ],
      "execution_count": 1,
      "outputs": [
        {
          "output_type": "stream",
          "text": [
            "Using sys version: sys.version_info(major=3, minor=6, micro=9, releaselevel='final', serial=0)\n",
            "Using matplotlib version: 3.2.2\n",
            "Using numpy version: 1.19.4\n",
            "Using pandas version: 1.1.5\n",
            "Using seaborn version: 0.11.0\n"
          ],
          "name": "stdout"
        }
      ]
    },
    {
      "cell_type": "code",
      "metadata": {
        "id": "oMgl3gdeBTJQ"
      },
      "source": [
        "# loading testing dataframe\n",
        "housing_test = pd.read_csv('sample_data/california_housing_test.csv')\n",
        "\n",
        "# loading training dataframe\n",
        "housing_train = pd.read_csv('sample_data/california_housing_train.csv')"
      ],
      "execution_count": 9,
      "outputs": []
    },
    {
      "cell_type": "code",
      "metadata": {
        "colab": {
          "base_uri": "https://localhost:8080/"
        },
        "id": "JJ1A9s9uBhDn",
        "outputId": "68486b58-159a-49f4-ae0e-a1af403d2c6d"
      },
      "source": [
        "# housing test head\n",
        "print(housing_test.head())"
      ],
      "execution_count": 10,
      "outputs": [
        {
          "output_type": "stream",
          "text": [
            "   longitude  latitude  housing_median_age  total_rooms  total_bedrooms  \\\n",
            "0    -122.05     37.37                27.0       3885.0           661.0   \n",
            "1    -118.30     34.26                43.0       1510.0           310.0   \n",
            "2    -117.81     33.78                27.0       3589.0           507.0   \n",
            "3    -118.36     33.82                28.0         67.0            15.0   \n",
            "4    -119.67     36.33                19.0       1241.0           244.0   \n",
            "\n",
            "   population  households  median_income  median_house_value  \n",
            "0      1537.0       606.0         6.6085            344700.0  \n",
            "1       809.0       277.0         3.5990            176500.0  \n",
            "2      1484.0       495.0         5.7934            270500.0  \n",
            "3        49.0        11.0         6.1359            330000.0  \n",
            "4       850.0       237.0         2.9375             81700.0  \n"
          ],
          "name": "stdout"
        }
      ]
    },
    {
      "cell_type": "code",
      "metadata": {
        "colab": {
          "base_uri": "https://localhost:8080/"
        },
        "id": "OjvRr3M5Cguf",
        "outputId": "dd94960b-de61-4dd5-8060-652ee45b1ec1"
      },
      "source": [
        "# housing train head\n",
        "print(housing_train.head())"
      ],
      "execution_count": 11,
      "outputs": [
        {
          "output_type": "stream",
          "text": [
            "   longitude  latitude  housing_median_age  total_rooms  total_bedrooms  \\\n",
            "0    -114.31     34.19                15.0       5612.0          1283.0   \n",
            "1    -114.47     34.40                19.0       7650.0          1901.0   \n",
            "2    -114.56     33.69                17.0        720.0           174.0   \n",
            "3    -114.57     33.64                14.0       1501.0           337.0   \n",
            "4    -114.57     33.57                20.0       1454.0           326.0   \n",
            "\n",
            "   population  households  median_income  median_house_value  \n",
            "0      1015.0       472.0         1.4936             66900.0  \n",
            "1      1129.0       463.0         1.8200             80100.0  \n",
            "2       333.0       117.0         1.6509             85700.0  \n",
            "3       515.0       226.0         3.1917             73400.0  \n",
            "4       624.0       262.0         1.9250             65500.0  \n"
          ],
          "name": "stdout"
        }
      ]
    },
    {
      "cell_type": "code",
      "metadata": {
        "id": "JY8PG8l9CtWA"
      },
      "source": [
        ""
      ],
      "execution_count": null,
      "outputs": []
    }
  ]
}